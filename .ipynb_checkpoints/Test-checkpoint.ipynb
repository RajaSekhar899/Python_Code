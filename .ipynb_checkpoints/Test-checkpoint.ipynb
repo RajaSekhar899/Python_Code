{
 "cells": [
  {
   "cell_type": "code",
   "execution_count": 3,
   "id": "4125feca",
   "metadata": {},
   "outputs": [
    {
     "name": "stdout",
     "output_type": "stream",
     "text": [
      "Hi RajaSekhar, Good luck with your learning\n"
     ]
    }
   ],
   "source": [
    "a = 'Hi RajaSekhar, Good luck with your learning'\n",
    "print(a)"
   ]
  },
  {
   "cell_type": "code",
   "execution_count": 1,
   "id": "014dddf3",
   "metadata": {},
   "outputs": [
    {
     "data": {
      "text/plain": [
       "[]"
      ]
     },
     "execution_count": 1,
     "metadata": {},
     "output_type": "execute_result"
    }
   ],
   "source": [
    "list1 = [1,2,3,4,5,6]\n",
    "list1[-1:-3]"
   ]
  },
  {
   "cell_type": "code",
   "execution_count": 5,
   "id": "fc904ab4",
   "metadata": {},
   "outputs": [
    {
     "ename": "SyntaxError",
     "evalue": "'return' outside function (2383300448.py, line 15)",
     "output_type": "error",
     "traceback": [
      "\u001b[1;36m  Cell \u001b[1;32mIn[5], line 15\u001b[1;36m\u001b[0m\n\u001b[1;33m    return n2\u001b[0m\n\u001b[1;37m    ^\u001b[0m\n\u001b[1;31mSyntaxError\u001b[0m\u001b[1;31m:\u001b[0m 'return' outside function\n"
     ]
    }
   ],
   "source": [
    "#Fibonacci\n",
    "n = 10\n",
    "n1 = 0\n",
    "n2 = 1\n",
    "\n",
    "if n < 0:\n",
    "    print(\"Enter Positive Number\")\n",
    "elif n == 1:\n",
    "    print(\"Fib is\", n1)\n",
    "else:\n",
    "    for i in range (1,n):\n",
    "        n3 = n1+n2\n",
    "        n1 = n2\n",
    "        n2 = n3\n",
    "    return n2\n",
    "        "
   ]
  },
  {
   "cell_type": "code",
   "execution_count": 8,
   "id": "3daf5330",
   "metadata": {},
   "outputs": [
    {
     "name": "stdout",
     "output_type": "stream",
     "text": [
      "0\n",
      "1\n",
      "1\n",
      "2\n",
      "3\n",
      "5\n",
      "8\n",
      "13\n",
      "21\n",
      "34\n"
     ]
    }
   ],
   "source": [
    "n = 10#int(input (\"Enter the number you want to print: \"))     \n",
    "# Take input from user that how many numbers you want to print  \n",
    "a = 0    \n",
    "b = 1    \n",
    "for i in range(0,n):  \n",
    "    print(a)             # a:0;    a:1;       a:2  \n",
    "    c = a+b                     #c=0+1=1; c= 1+1=2;  c=1+2=3  \n",
    "    a = b               #a=1    ; a=1;       a=2  \n",
    "    b = c  "
   ]
  },
  {
   "cell_type": "code",
   "execution_count": null,
   "id": "c1983c70",
   "metadata": {},
   "outputs": [],
   "source": []
  }
 ],
 "metadata": {
  "kernelspec": {
   "display_name": "Python 3 (ipykernel)",
   "language": "python",
   "name": "python3"
  },
  "language_info": {
   "codemirror_mode": {
    "name": "ipython",
    "version": 3
   },
   "file_extension": ".py",
   "mimetype": "text/x-python",
   "name": "python",
   "nbconvert_exporter": "python",
   "pygments_lexer": "ipython3",
   "version": "3.11.4"
  }
 },
 "nbformat": 4,
 "nbformat_minor": 5
}
